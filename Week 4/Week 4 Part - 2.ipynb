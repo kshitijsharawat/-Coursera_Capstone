{
 "cells": [
  {
   "cell_type": "markdown",
   "metadata": {},
   "source": [
    "# The Battle of Neighborhoods \n",
    "\n",
    "## Data Description\n",
    "\n",
    "Toronto dataset will be used which we scrapped from wikipedia on Week 3. Dataset consisting of latitude and longitude, zip codes.\n",
    "\n",
    "Data [link][1]\n",
    "\n",
    "[1]: https://en.wikipedia.org/wiki/List_of_postal_codes_of_Canada:_M \"Title\"\n",
    "\n",
    "## Foursquare\n",
    "\n",
    "Foursquare api will be used to retrieve data of different neighbourhoods. Foursquare will give us venues around a neighbourhood their type and ratings which will be used to segment neighbourhoods and decide which will be the best option.\n"
   ]
  },
  {
   "cell_type": "code",
   "execution_count": null,
   "metadata": {},
   "outputs": [],
   "source": []
  }
 ],
 "metadata": {
  "kernelspec": {
   "display_name": "Python 3",
   "language": "python",
   "name": "python3"
  },
  "language_info": {
   "codemirror_mode": {
    "name": "ipython",
    "version": 3
   },
   "file_extension": ".py",
   "mimetype": "text/x-python",
   "name": "python",
   "nbconvert_exporter": "python",
   "pygments_lexer": "ipython3",
   "version": "3.7.4"
  }
 },
 "nbformat": 4,
 "nbformat_minor": 2
}
