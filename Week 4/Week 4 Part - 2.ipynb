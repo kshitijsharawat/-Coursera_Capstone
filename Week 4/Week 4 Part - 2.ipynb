{
 "cells": [
  {
   "cell_type": "markdown",
   "metadata": {},
   "source": [
    "# The Battle of Neighborhoods \n",
    "\n",
    "## Data Description\n",
    "\n",
    "Toronto dataset will be used which we scrapped from wikipedia on Week 3. Dataset consisting of latitude and longitude, zip codes.\n",
    "\n",
    "Data [link][1]\n",
    "\n",
    "[1]: https://en.wikipedia.org/wiki/List_of_postal_codes_of_Canada:_M \"Title\"\n",
    "\n",
    "## Foursquare\n",
    "\n",
    "Foursquare api will be used to retrieve data of different neighbourhoods. Foursquare will give us venues around a neighbourhood their type and ratings which will be used to segment neighbourhoods and decide which will be the best option. The following data will be obatined from foursquare \n",
    "\n",
    "1. Neighborhood\n",
    "2. Neighborhood Latitude\n",
    "3. Neighborhood Longitude\n",
    "4. Venue\n",
    "5. Name of the venue e.g. the name of a store or restaurant\n",
    "6. Venue Latitude\n",
    "7. Venue Longitude\n",
    "8. Venue Category\n"
   ]
  },
  {
   "cell_type": "code",
   "execution_count": null,
   "metadata": {},
   "outputs": [],
   "source": []
  }
 ],
 "metadata": {
  "kernelspec": {
   "display_name": "Python 3",
   "language": "python",
   "name": "python3"
  },
  "language_info": {
   "codemirror_mode": {
    "name": "ipython",
    "version": 3
   },
   "file_extension": ".py",
   "mimetype": "text/x-python",
   "name": "python",
   "nbconvert_exporter": "python",
   "pygments_lexer": "ipython3",
   "version": "3.7.4"
  }
 },
 "nbformat": 4,
 "nbformat_minor": 2
}
