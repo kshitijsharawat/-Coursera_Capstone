{
 "cells": [
  {
   "cell_type": "markdown",
   "metadata": {},
   "source": [
    "# The Battle of Neighborhoods\n",
    "\n",
    "## Problem Description \n",
    "\n",
    "### Introduction\n",
    "\n",
    "The purpose of this project will be to help a person decide where he/she should build the restaurant in the city\n",
    "The target audience would be anyone who wants to start a new business but, is not able to decide the location.\n",
    "\n",
    "### Location\n",
    "\n",
    "The person wants to open the restaurant in Toronto. Toronto is the financial capital of Canda and a cosmopolitan city with art, food, beaches, nightlife, everything. So setting up a new restaurant business here would be a challange as well as a huge opportunity. \n",
    "\n",
    "### Clustering\n",
    "\n",
    "To compare the similarities and dissimilarities between different neighbourhoods of toronto, we decided to explore neighborhoods to segment them and group them into clusters using k-means clustering\n",
    "\n",
    "### Libraries Used\n",
    "\n",
    "* Pandas\n",
    "* Matplotlib\n",
    "* Scikit Learn\n",
    "* JSON\n",
    "* XML\n",
    "* Geocoder\n",
    "* Requests\n",
    "* Folium\n",
    " \n"
   ]
  },
  {
   "cell_type": "markdown",
   "metadata": {},
   "source": []
  }
 ],
 "metadata": {
  "kernelspec": {
   "display_name": "Python 3",
   "language": "python",
   "name": "python3"
  },
  "language_info": {
   "codemirror_mode": {
    "name": "ipython",
    "version": 3
   },
   "file_extension": ".py",
   "mimetype": "text/x-python",
   "name": "python",
   "nbconvert_exporter": "python",
   "pygments_lexer": "ipython3",
   "version": "3.7.4"
  }
 },
 "nbformat": 4,
 "nbformat_minor": 2
}
